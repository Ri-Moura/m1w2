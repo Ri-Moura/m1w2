{
 "cells": [
  {
   "attachments": {},
   "cell_type": "markdown",
   "metadata": {},
   "source": [
    "## Operadores"
   ]
  },
  {
   "cell_type": "code",
   "execution_count": 5,
   "metadata": {},
   "outputs": [
    {
     "name": "stdout",
     "output_type": "stream",
     "text": [
      "Operadores são símbolos especiais que realizam operações específicas entre operandos.\n"
     ]
    }
   ],
   "source": [
    "print(\"Operadores são símbolos especiais que realizam operações específicas entre operandos.\")\n"
   ]
  },
  {
   "attachments": {},
   "cell_type": "markdown",
   "metadata": {},
   "source": [
    "## Operadores Aritméticos"
   ]
  },
  {
   "cell_type": "code",
   "execution_count": 6,
   "metadata": {},
   "outputs": [
    {
     "name": "stdout",
     "output_type": "stream",
     "text": [
      "Operadores aritméticos em Python:\n",
      "+ : Adição\n",
      "- : Subtração\n",
      "* : Multiplicação\n",
      "/ : Divisão\n",
      "% : Módulo (resto da divisão)\n",
      "** : Exponenciação\n",
      "// : Divisão inteira\n",
      "\n",
      "Precedência dos operadores (da maior para a menor):\n",
      "1. () : Parênteses\n",
      "2. ** : Exponenciação\n",
      "3. *, /, //, % : Multiplicação, Divisão, Divisão inteira, Módulo\n",
      "4. +, - : Adição, Subtração\n"
     ]
    }
   ],
   "source": [
    "print(\"Operadores aritméticos em Python:\")\n",
    "print(\"+ : Adição\")\n",
    "print(\"- : Subtração\")\n",
    "print(\"* : Multiplicação\")\n",
    "print(\"/ : Divisão\")\n",
    "print(\"% : Módulo (resto da divisão)\")\n",
    "print(\"** : Exponenciação\")\n",
    "print(\"// : Divisão inteira\")\n",
    "\n",
    "print(\"\\nPrecedência dos operadores (da maior para a menor):\")\n",
    "print(\"1. () : Parênteses\")\n",
    "print(\"2. ** : Exponenciação\")\n",
    "print(\"3. *, /, //, % : Multiplicação, Divisão, Divisão inteira, Módulo\")\n",
    "print(\"4. +, - : Adição, Subtração\")"
   ]
  },
  {
   "attachments": {},
   "cell_type": "markdown",
   "metadata": {},
   "source": [
    "## Operações básicas utilizando operadores Aritméticos"
   ]
  },
  {
   "cell_type": "code",
   "execution_count": 2,
   "metadata": {},
   "outputs": [
    {
     "name": "stdout",
     "output_type": "stream",
     "text": [
      "Soma:  15\n",
      "Subtração:  5\n",
      "Multiplicação:  50\n",
      "Divisão:  2.0\n"
     ]
    }
   ],
   "source": [
    "a = 10\n",
    "b = 5\n",
    "\n",
    "soma = a + b\n",
    "subtracao = a - b\n",
    "multiplicacao = a * b\n",
    "divisao = a / b\n",
    "\n",
    "print(\"Soma: \", soma)\n",
    "print(\"Subtração: \", subtracao)\n",
    "print(\"Multiplicação: \", multiplicacao)\n",
    "print(\"Divisão: \", divisao)"
   ]
  },
  {
   "attachments": {},
   "cell_type": "markdown",
   "metadata": {},
   "source": [
    "## Exercicio 1"
   ]
  },
  {
   "cell_type": "code",
   "execution_count": 7,
   "metadata": {},
   "outputs": [
    {
     "name": "stdout",
     "output_type": "stream",
     "text": [
      "40.75\n"
     ]
    }
   ],
   "source": [
    "'''\n",
    "Crie uma aplicação que calcule o valor total que o Sr. João possui em moedas de real (R$) no caixa. \n",
    "A aplicação deve imprimir o valor total em reais (R$) e pode-se utilizar ponto flutuante para representar\n",
    "o valor com duas casas decimais no momento que for imprimir o valor na tela.\n",
    "'''\n",
    "\n",
    "total_5_centavos = 35 * 0.05\n",
    "total_10_centavos = 50 * 0.10\n",
    "total_25_centavos = 30 * 0.25\n",
    "total_50_centavos = 15 * 0.50\n",
    "total_1_real = 19 * 1.00\n",
    "\n",
    "# Calculo total do caixa\n",
    "total_caixa = (\n",
    "    total_5_centavos  + \n",
    "    total_10_centavos + \n",
    "    total_25_centavos + \n",
    "    total_50_centavos +\n",
    "    total_1_real\n",
    ")\n",
    "\n",
    "print(total_caixa)\n"
   ]
  },
  {
   "attachments": {},
   "cell_type": "markdown",
   "metadata": {},
   "source": [
    "## Exercicio 2"
   ]
  },
  {
   "cell_type": "code",
   "execution_count": 24,
   "metadata": {},
   "outputs": [
    {
     "name": "stdout",
     "output_type": "stream",
     "text": [
      "3031.40\n"
     ]
    }
   ],
   "source": [
    "''''\n",
    "Um freelancer está com dificuldade para calcular qual valor cobrar por um projeto que está estimado em 80 horas.\n",
    "Após pensar e revisitar o preço de alguns projetos que cobrou no passado, ele montou a seguinte fórmula: \n",
    "valor inicial + quantidade de horas estimadas * valor da hora + 15% do valor calculado. \n",
    "Crie um programa que faça essa conta para o freelancer. Considere que o valor inicial sempre será R$ 1000,00 \n",
    "e o valor da hora cobrada é de R$ 20,45. A aplicação deve imprimir o valor calculado pelo projeto considerando \n",
    "duas casas decimais na formatação do valor. \n",
    "Dica: Preste atenção na ordem que as operações da fórmula devem ser realizadas.\n",
    "'''\n",
    "\n",
    "horas_estimadas = 80\n",
    "valor_inicial = 1000.00\n",
    "valor_hora = 20.45\n",
    "taxa_gordura = 0.15 # 15%\n",
    "\n",
    "valor_total = (valor_inicial + horas_estimadas * valor_hora) * (1 + taxa_gordura)\n",
    "valor_total = round(valor_total, 2)\n",
    "\n",
    "print(valor_total)\n"
   ]
  },
  {
   "attachments": {},
   "cell_type": "markdown",
   "metadata": {},
   "source": [
    "## Variáveis e tipos de Dados"
   ]
  },
  {
   "cell_type": "code",
   "execution_count": 9,
   "metadata": {},
   "outputs": [
    {
     "name": "stdout",
     "output_type": "stream",
     "text": [
      "Inteiro: 42 <class 'int'>\n",
      "Flutuante: 3.14 <class 'float'>\n",
      "Texto: 1 <class 'str'>\n",
      "Booleano: True <class 'bool'>\n"
     ]
    }
   ],
   "source": [
    "inteiro = 42\n",
    "flutuante = 3.14\n",
    "texto = \"Olá, mundo!\"\n",
    "booleano = True\n",
    "\n",
    "print(\"Inteiro:\", inteiro, type(inteiro))\n",
    "print(\"Flutuante:\", flutuante, type(flutuante))\n",
    "print(\"Texto:\", texto, type(texto))\n",
    "print(\"Booleano:\", booleano, type(booleano))"
   ]
  },
  {
   "attachments": {},
   "cell_type": "markdown",
   "metadata": {},
   "source": [
    "## Atribuindo valores a variaveis"
   ]
  },
  {
   "cell_type": "code",
   "execution_count": 10,
   "metadata": {},
   "outputs": [
    {
     "name": "stdout",
     "output_type": "stream",
     "text": [
      "Nome: Maria\n",
      "Idade: 25\n",
      "Altura: 1.68\n",
      "Peso: 60.5\n",
      "Estudante: True\n"
     ]
    }
   ],
   "source": [
    "nome = \"Maria\"\n",
    "idade = 25\n",
    "altura = 1.68\n",
    "peso = 60.5\n",
    "estudante = True\n",
    "\n",
    "print(\"Nome:\", nome)\n",
    "print(\"Idade:\", idade)\n",
    "print(\"Altura:\", altura)\n",
    "print(\"Peso:\", peso)\n",
    "print(\"Estudante:\", estudante)"
   ]
  },
  {
   "attachments": {},
   "cell_type": "markdown",
   "metadata": {},
   "source": [
    "## Tipos de Dados em Python"
   ]
  },
  {
   "cell_type": "code",
   "execution_count": 12,
   "metadata": {},
   "outputs": [
    {
     "name": "stdout",
     "output_type": "stream",
     "text": [
      "Lista: [1, 2, 3, 4, 5] <class 'list'>\n",
      "Tupla: (1, 2, 3, 4, 5) <class 'tuple'>\n",
      "Conjunto: {1, 2, 3, 4, 5} <class 'set'>\n",
      "Dicionário: {'um': 1, 'dois': 2, 'tres': 3} <class 'dict'>\n",
      "Lista: [1, 2, 3, 4, 5, 6] <class 'list'>\n"
     ]
    }
   ],
   "source": [
    "lista = [1, 2, 3, 4, 5]\n",
    "tupla = (1, 2, 3, 4, 5)\n",
    "conjunto = {1, 2, 3, 4, 5}\n",
    "dicionario = {\"um\": 1, \"dois\": 2, \"tres\": 3}\n",
    "\n",
    "print(\"Lista:\", lista, type(lista))\n",
    "print(\"Tupla:\", tupla, type(tupla))\n",
    "print(\"Conjunto:\", conjunto, type(conjunto))\n",
    "print(\"Dicionário:\", dicionario, type(dicionario))"
   ]
  },
  {
   "cell_type": "code",
   "execution_count": 23,
   "metadata": {},
   "outputs": [
    {
     "data": {
      "text/plain": [
       "1"
      ]
     },
     "execution_count": 23,
     "metadata": {},
     "output_type": "execute_result"
    }
   ],
   "source": [
    "lista[0]"
   ]
  },
  {
   "attachments": {},
   "cell_type": "markdown",
   "metadata": {},
   "source": [
    "## Interpolação"
   ]
  },
  {
   "cell_type": "code",
   "execution_count": 16,
   "metadata": {},
   "outputs": [
    {
     "name": "stdout",
     "output_type": "stream",
     "text": [
      "<class 'int'>\n",
      "Olá, meu nome é João e eu tenho 30 anos.\n",
      "Olá, meu nome é João e eu tenho 30 anos.\n",
      "Olá, meu nome é João e eu tenho 30 anos.\n"
     ]
    }
   ],
   "source": [
    "# Script: formatacao_strings.py\n",
    "nome = \"João\"\n",
    "idade = 30\n",
    "\n",
    "# Interpolação usando f-strings (Python 3.6+)\n",
    "mensagem = f\"Olá, meu nome é {nome} e eu tenho {idade} anos.\"\n",
    "print(type(idade))\n",
    "print(mensagem)\n",
    "\n",
    "# Formatação usando str.format()\n",
    "mensagem_format = \"Olá, meu nome é {} e eu tenho {} anos.\".format(nome, idade)\n",
    "print(mensagem_format)\n",
    "\n",
    "# Formatação usando % (mais antigo)\n",
    "mensagem_porcentagem = \"Olá, meu nome é %s e eu tenho %d anos.\" % (nome, idade)\n",
    "print(mensagem_porcentagem)\n"
   ]
  },
  {
   "attachments": {},
   "cell_type": "markdown",
   "metadata": {},
   "source": [
    "## Exercicio 3"
   ]
  },
  {
   "cell_type": "code",
   "execution_count": 28,
   "metadata": {},
   "outputs": [
    {
     "name": "stdout",
     "output_type": "stream",
     "text": [
      "Olá, Elysson! Seja bem vindo à nave Imperial dos Siths.\n",
      "Olá, Giulia! Seja bem vindo à nave Imperial dos Siths.\n",
      "Olá, Willian! Seja bem vindo à nave Imperial dos Siths.\n",
      "Olá, Gileno! Seja bem vindo à nave Imperial dos Siths.\n",
      "Olá, Elysson! Seja bem vindo à nave Imperial dos Siths.\n",
      "Olá, Giulia! Seja bem vindo à nave Imperial dos Siths.\n",
      "Olá, Willian! Seja bem vindo à nave Imperial dos Siths.\n",
      "Olá, Gileno! Seja bem vindo à nave Imperial dos Siths.\n"
     ]
    }
   ],
   "source": [
    "'''Uma nave espacial recebe as pessoas com uma mensagem de boas vindas de acordo com o nome que elas \n",
    "forneceram ao fazer o cadastro na recepção. Crie uma aplicação que imprima a mensagem de boas vindas \n",
    "de acordo com os nomes na lista: nomes = [‘Elysson’, ‘Giulia’, ‘Willian’, ‘Gileno’], com a seguinte mensagem: \n",
    "“Olá, NOME_PESSOA! Seja bem vindo à nave Imperial dos Siths.”. \n",
    "Crie um programa que faça a interpolação da string de boas vindas, substituindo o NOME_PESSOA pelo nome lido \n",
    "na lista e imprimindo a frase de boas vindas com o nome substituído.\n",
    "'''\n",
    "\n",
    "nomes = ['Elysson', 'Giulia', 'Willian', 'Gileno']\n",
    "\n",
    "print(f\"Olá, {nomes[0]}! Seja bem vindo à nave Imperial dos Siths.\")\n",
    "print(f\"Olá, {nomes[1]}! Seja bem vindo à nave Imperial dos Siths.\")\n",
    "print(f\"Olá, {nomes[2]}! Seja bem vindo à nave Imperial dos Siths.\")\n",
    "print(f\"Olá, {nomes[3]}! Seja bem vindo à nave Imperial dos Siths.\")\n",
    "\n",
    "for nome in nomes:\n",
    "    print(f\"Olá, {nome}! Seja bem vindo à nave Imperial dos Siths.\")"
   ]
  },
  {
   "cell_type": "code",
   "execution_count": 29,
   "metadata": {},
   "outputs": [
    {
     "name": "stdout",
     "output_type": "stream",
     "text": [
      "Seu nome está na lista de nomes.\n"
     ]
    }
   ],
   "source": [
    "'''\n",
    "Programa que recebe entrada de dados e checa se o nome do usuario está na lista de nomes.\n",
    "'''\n",
    "\n",
    "nome = input(\"Digite seu nome: \")\n",
    "nomes = []\n",
    "nomes.append(nome)\n",
    "\n",
    "if nome in nomes:\n",
    "    print(\"Seu nome está na lista de nomes.\")"
   ]
  },
  {
   "attachments": {},
   "cell_type": "markdown",
   "metadata": {},
   "source": [
    "## Operadores de comparação aritmética"
   ]
  },
  {
   "cell_type": "code",
   "execution_count": null,
   "metadata": {},
   "outputs": [],
   "source": [
    "a = 10\n",
    "b = 5\n",
    "\n",
    "print(\"a == b:\", a == b)\n",
    "print(\"a != b:\", a != b)\n",
    "print(\"a < b:\", a < b)\n",
    "print(\"a > b:\", a > b)\n",
    "print(\"a <= b:\", a <= b)\n",
    "print(\"a >= b:\", a >= b)"
   ]
  },
  {
   "attachments": {},
   "cell_type": "markdown",
   "metadata": {},
   "source": [
    "## Operadores Booleanos"
   ]
  },
  {
   "cell_type": "code",
   "execution_count": null,
   "metadata": {},
   "outputs": [],
   "source": [
    "verdadeiro = True\n",
    "falso = False\n",
    "\n",
    "print(\"AND - verdadeiro and falso:\", verdadeiro and falso)\n",
    "print(\"OR - verdadeiro or falso:\", verdadeiro or falso)\n",
    "print(\"NOT - not verdadeiro:\", not verdadeiro)"
   ]
  },
  {
   "attachments": {},
   "cell_type": "markdown",
   "metadata": {},
   "source": [
    "## Controle de Fluxo (IF, FOR, WHILE)"
   ]
  },
  {
   "cell_type": "code",
   "execution_count": null,
   "metadata": {},
   "outputs": [],
   "source": [
    "# IF\n",
    "idade = 18\n",
    "if idade >= 18:\n",
    "    print(\"Maior de idade\")\n",
    "else:\n",
    "    print(\"Menor de idade\")\n",
    "\n",
    "# FOR\n",
    "for i in range(1, 6):\n",
    "    print(f\"Número: {i}\")\n",
    "\n",
    "# WHILE\n",
    "contador = 1\n",
    "while contador <= 5:\n",
    "    print(f\"Contador: {contador}\")\n",
    "    contador += 1"
   ]
  }
 ],
 "metadata": {
  "kernelspec": {
   "display_name": "Python 3",
   "language": "python",
   "name": "python3"
  },
  "language_info": {
   "codemirror_mode": {
    "name": "ipython",
    "version": 3
   },
   "file_extension": ".py",
   "mimetype": "text/x-python",
   "name": "python",
   "nbconvert_exporter": "python",
   "pygments_lexer": "ipython3",
   "version": "3.9.16"
  },
  "orig_nbformat": 4
 },
 "nbformat": 4,
 "nbformat_minor": 2
}
