{
 "cells": [
  {
   "attachments": {},
   "cell_type": "markdown",
   "metadata": {},
   "source": [
    "## Operadores"
   ]
  },
  {
   "cell_type": "code",
   "execution_count": 5,
   "metadata": {},
   "outputs": [
    {
     "name": "stdout",
     "output_type": "stream",
     "text": [
      "Operadores são símbolos especiais que realizam operações específicas entre operandos.\n"
     ]
    }
   ],
   "source": [
    "print(\"Operadores são símbolos especiais que realizam operações específicas entre operandos.\")\n"
   ]
  },
  {
   "attachments": {},
   "cell_type": "markdown",
   "metadata": {},
   "source": [
    "## Operadores Aritméticos"
   ]
  },
  {
   "cell_type": "code",
   "execution_count": 6,
   "metadata": {},
   "outputs": [
    {
     "name": "stdout",
     "output_type": "stream",
     "text": [
      "Operadores aritméticos em Python:\n",
      "+ : Adição\n",
      "- : Subtração\n",
      "* : Multiplicação\n",
      "/ : Divisão\n",
      "% : Módulo (resto da divisão)\n",
      "** : Exponenciação\n",
      "// : Divisão inteira\n",
      "\n",
      "Precedência dos operadores (da maior para a menor):\n",
      "1. () : Parênteses\n",
      "2. ** : Exponenciação\n",
      "3. *, /, //, % : Multiplicação, Divisão, Divisão inteira, Módulo\n",
      "4. +, - : Adição, Subtração\n"
     ]
    }
   ],
   "source": [
    "print(\"Operadores aritméticos em Python:\")\n",
    "print(\"+ : Adição\")\n",
    "print(\"- : Subtração\")\n",
    "print(\"* : Multiplicação\")\n",
    "print(\"/ : Divisão\")\n",
    "print(\"% : Módulo (resto da divisão)\")\n",
    "print(\"** : Exponenciação\")\n",
    "print(\"// : Divisão inteira\")\n",
    "\n",
    "print(\"\\nPrecedência dos operadores (da maior para a menor):\")\n",
    "print(\"1. () : Parênteses\")\n",
    "print(\"2. ** : Exponenciação\")\n",
    "print(\"3. *, /, //, % : Multiplicação, Divisão, Divisão inteira, Módulo\")\n",
    "print(\"4. +, - : Adição, Subtração\")"
   ]
  },
  {
   "attachments": {},
   "cell_type": "markdown",
   "metadata": {},
   "source": [
    "## Operações básicas utilizando operadores Aritméticos"
   ]
  },
  {
   "cell_type": "code",
   "execution_count": 2,
   "metadata": {},
   "outputs": [
    {
     "name": "stdout",
     "output_type": "stream",
     "text": [
      "Soma:  15\n",
      "Subtração:  5\n",
      "Multiplicação:  50\n",
      "Divisão:  2.0\n"
     ]
    }
   ],
   "source": [
    "a = 10\n",
    "b = 5\n",
    "\n",
    "soma = a + b\n",
    "subtracao = a - b\n",
    "multiplicacao = a * b\n",
    "divisao = a / b\n",
    "\n",
    "print(\"Soma: \", soma)\n",
    "print(\"Subtração: \", subtracao)\n",
    "print(\"Multiplicação: \", multiplicacao)\n",
    "print(\"Divisão: \", divisao)"
   ]
  },
  {
   "attachments": {},
   "cell_type": "markdown",
   "metadata": {},
   "source": [
    "## Exercicio 1"
   ]
  },
  {
   "cell_type": "code",
   "execution_count": 7,
   "metadata": {},
   "outputs": [
    {
     "name": "stdout",
     "output_type": "stream",
     "text": [
      "40.75\n"
     ]
    }
   ],
   "source": [
    "'''\n",
    "Crie uma aplicação que calcule o valor total que o Sr. João possui em moedas de real (R$) no caixa. \n",
    "A aplicação deve imprimir o valor total em reais (R$) e pode-se utilizar ponto flutuante para representar\n",
    "o valor com duas casas decimais no momento que for imprimir o valor na tela.\n",
    "'''\n",
    "\n",
    "total_5_centavos = 35 * 0.05\n",
    "total_10_centavos = 50 * 0.10\n",
    "total_25_centavos = 30 * 0.25\n",
    "total_50_centavos = 15 * 0.50\n",
    "total_1_real = 19 * 1.00\n",
    "\n",
    "# Calculo total do caixa\n",
    "total_caixa = (\n",
    "    total_5_centavos  + \n",
    "    total_10_centavos + \n",
    "    total_25_centavos + \n",
    "    total_50_centavos +\n",
    "    total_1_real\n",
    ")\n",
    "\n",
    "print(total_caixa)\n"
   ]
  },
  {
   "attachments": {},
   "cell_type": "markdown",
   "metadata": {},
   "source": [
    "## Exercicio 2"
   ]
  },
  {
   "cell_type": "code",
   "execution_count": 24,
   "metadata": {},
   "outputs": [
    {
     "name": "stdout",
     "output_type": "stream",
     "text": [
      "3031.40\n"
     ]
    }
   ],
   "source": [
    "''''\n",
    "Um freelancer está com dificuldade para calcular qual valor cobrar por um projeto que está estimado em 80 horas.\n",
    "Após pensar e revisitar o preço de alguns projetos que cobrou no passado, ele montou a seguinte fórmula: \n",
    "valor inicial + quantidade de horas estimadas * valor da hora + 15% do valor calculado. \n",
    "Crie um programa que faça essa conta para o freelancer. Considere que o valor inicial sempre será R$ 1000,00 \n",
    "e o valor da hora cobrada é de R$ 20,45. A aplicação deve imprimir o valor calculado pelo projeto considerando \n",
    "duas casas decimais na formatação do valor. \n",
    "Dica: Preste atenção na ordem que as operações da fórmula devem ser realizadas.\n",
    "'''\n",
    "\n",
    "horas_estimadas = 80\n",
    "valor_inicial = 1000.00\n",
    "valor_hora = 20.45\n",
    "taxa_gordura = 0.15 # 15%\n",
    "\n",
    "valor_total = (valor_inicial + horas_estimadas * valor_hora) * (1 + taxa_gordura)\n",
    "valor_total = round(valor_total, 2)\n",
    "\n",
    "print(valor_total)\n"
   ]
  },
  {
   "attachments": {},
   "cell_type": "markdown",
   "metadata": {},
   "source": [
    "## Variáveis e tipos de Dados"
   ]
  },
  {
   "cell_type": "code",
   "execution_count": 9,
   "metadata": {},
   "outputs": [
    {
     "name": "stdout",
     "output_type": "stream",
     "text": [
      "Inteiro: 42 <class 'int'>\n",
      "Flutuante: 3.14 <class 'float'>\n",
      "Texto: 1 <class 'str'>\n",
      "Booleano: True <class 'bool'>\n"
     ]
    }
   ],
   "source": [
    "inteiro = 42\n",
    "flutuante = 3.14\n",
    "texto = \"Olá, mundo!\"\n",
    "booleano = True\n",
    "\n",
    "print(\"Inteiro:\", inteiro, type(inteiro))\n",
    "print(\"Flutuante:\", flutuante, type(flutuante))\n",
    "print(\"Texto:\", texto, type(texto))\n",
    "print(\"Booleano:\", booleano, type(booleano))"
   ]
  },
  {
   "attachments": {},
   "cell_type": "markdown",
   "metadata": {},
   "source": [
    "## Atribuindo valores a variaveis"
   ]
  },
  {
   "cell_type": "code",
   "execution_count": 10,
   "metadata": {},
   "outputs": [
    {
     "name": "stdout",
     "output_type": "stream",
     "text": [
      "Nome: Maria\n",
      "Idade: 25\n",
      "Altura: 1.68\n",
      "Peso: 60.5\n",
      "Estudante: True\n"
     ]
    }
   ],
   "source": [
    "nome = \"Maria\"\n",
    "idade = 25\n",
    "altura = 1.68\n",
    "peso = 60.5\n",
    "estudante = True\n",
    "\n",
    "print(\"Nome:\", nome)\n",
    "print(\"Idade:\", idade)\n",
    "print(\"Altura:\", altura)\n",
    "print(\"Peso:\", peso)\n",
    "print(\"Estudante:\", estudante)"
   ]
  },
  {
   "attachments": {},
   "cell_type": "markdown",
   "metadata": {},
   "source": [
    "## Tipos de Dados em Python"
   ]
  },
  {
   "cell_type": "code",
   "execution_count": 5,
   "metadata": {},
   "outputs": [
    {
     "name": "stdout",
     "output_type": "stream",
     "text": [
      "Lista: [1, 2, 3, 4, 5] <class 'list'>\n",
      "Tupla: (1, 2, 3, 4, 5) <class 'tuple'>\n",
      "Conjunto: {1, 2, 3, 4, 5} <class 'set'>\n",
      "Dicionário: {'Aluno': ['Ricardo', 'William', 'MK'], 'Classe': 'PD0323A', 'Curso': 'Python'} <class 'dict'>\n"
     ]
    }
   ],
   "source": [
    "lista = [1, 2, 3, 4, 5]\n",
    "tupla = (1, 2, 3, 4, 5)\n",
    "conjunto = {1, 2, 3, 4, 5}\n",
    "dicionario = {\"Aluno\": ['Ricardo', 'William', 'MK'], \"Classe\": 'PD0323A', \"Curso\": 'Python'}\n",
    "\n",
    "print(\"Lista:\", lista, type(lista))\n",
    "print(\"Tupla:\", tupla, type(tupla))\n",
    "print(\"Conjunto:\", conjunto, type(conjunto))\n",
    "print(\"Dicionário:\", dicionario, type(dicionario))"
   ]
  },
  {
   "attachments": {},
   "cell_type": "markdown",
   "metadata": {},
   "source": [
    "### Manipulação de Listas/Dicionarios"
   ]
  },
  {
   "cell_type": "code",
   "execution_count": 14,
   "metadata": {},
   "outputs": [
    {
     "name": "stdout",
     "output_type": "stream",
     "text": [
      "Ricardo\n",
      "William\n",
      "MK\n"
     ]
    }
   ],
   "source": [
    "#Chamando a chave Aluno, e retorna o valor da chave, que é uma lista\n",
    "for aluno in dicionario['Aluno']:\n",
    "    print(aluno)\n",
    "\n",
    "#Mesma coisa que o for acima\n",
    "print(dicionario['Aluno'][0])\n",
    "print(dicionario['Aluno'][1])\n",
    "print(dicionario['Aluno'][2])"
   ]
  },
  {
   "attachments": {},
   "cell_type": "markdown",
   "metadata": {},
   "source": [
    "## Interpolação"
   ]
  },
  {
   "cell_type": "code",
   "execution_count": 16,
   "metadata": {},
   "outputs": [
    {
     "name": "stdout",
     "output_type": "stream",
     "text": [
      "<class 'int'>\n",
      "Olá, meu nome é João e eu tenho 30 anos.\n",
      "Olá, meu nome é João e eu tenho 30 anos.\n",
      "Olá, meu nome é João e eu tenho 30 anos.\n"
     ]
    }
   ],
   "source": [
    "# Script: formatacao_strings.py\n",
    "nome = \"João\"\n",
    "idade = 30\n",
    "\n",
    "# Interpolação usando f-strings (Python 3.6+)\n",
    "mensagem = f\"Olá, meu nome é {nome} e eu tenho {idade} anos.\"\n",
    "print(type(idade))\n",
    "print(mensagem)\n",
    "\n",
    "# Formatação usando str.format()\n",
    "mensagem_format = \"Olá, meu nome é {} e eu tenho {} anos.\".format(nome, idade)\n",
    "print(mensagem_format)\n",
    "\n",
    "# Formatação usando % (mais antigo)\n",
    "mensagem_porcentagem = \"Olá, meu nome é %s e eu tenho %d anos.\" % (nome, idade)\n",
    "print(mensagem_porcentagem)\n"
   ]
  },
  {
   "attachments": {},
   "cell_type": "markdown",
   "metadata": {},
   "source": [
    "## Exercicio 3"
   ]
  },
  {
   "cell_type": "code",
   "execution_count": 28,
   "metadata": {},
   "outputs": [
    {
     "name": "stdout",
     "output_type": "stream",
     "text": [
      "Olá, Elysson! Seja bem vindo à nave Imperial dos Siths.\n",
      "Olá, Giulia! Seja bem vindo à nave Imperial dos Siths.\n",
      "Olá, Willian! Seja bem vindo à nave Imperial dos Siths.\n",
      "Olá, Gileno! Seja bem vindo à nave Imperial dos Siths.\n",
      "Olá, Elysson! Seja bem vindo à nave Imperial dos Siths.\n",
      "Olá, Giulia! Seja bem vindo à nave Imperial dos Siths.\n",
      "Olá, Willian! Seja bem vindo à nave Imperial dos Siths.\n",
      "Olá, Gileno! Seja bem vindo à nave Imperial dos Siths.\n"
     ]
    }
   ],
   "source": [
    "'''Uma nave espacial recebe as pessoas com uma mensagem de boas vindas de acordo com o nome que elas \n",
    "forneceram ao fazer o cadastro na recepção. Crie uma aplicação que imprima a mensagem de boas vindas \n",
    "de acordo com os nomes na lista: nomes = [‘Elysson’, ‘Giulia’, ‘Willian’, ‘Gileno’], com a seguinte mensagem: \n",
    "“Olá, NOME_PESSOA! Seja bem vindo à nave Imperial dos Siths.”. \n",
    "Crie um programa que faça a interpolação da string de boas vindas, substituindo o NOME_PESSOA pelo nome lido \n",
    "na lista e imprimindo a frase de boas vindas com o nome substituído.\n",
    "'''\n",
    "\n",
    "names  = ['Elysson', 'Giulia', 'Willian', 'Gileno']\n",
    "\n",
    "print(f\"Olá, {names[0]}! Seja bem vindo à nave Imperial dos Siths.\")\n",
    "print(f\"Olá, {names[1]}! Seja bem vindo à nave Imperial dos Siths.\")\n",
    "print(f\"Olá, {names[2]}! Seja bem vindo à nave Imperial dos Siths.\")\n",
    "print(f\"Olá, {names[3]}! Seja bem vindo à nave Imperial dos Siths.\")\n",
    "\n",
    "for nome in names:\n",
    "    print(f\"Olá, {nome}! Seja bem vindo à nave Imperial dos Siths.\")"
   ]
  },
  {
   "cell_type": "code",
   "execution_count": 29,
   "metadata": {},
   "outputs": [
    {
     "name": "stdout",
     "output_type": "stream",
     "text": [
      "Seu nome está na lista de nomes.\n"
     ]
    }
   ],
   "source": [
    "'''\n",
    "Programa que recebe entrada de dados e checa se o nome do usuario está na lista de nomes.\n",
    "'''\n",
    "nomes = ['Elysson', 'Giulia', 'Willian', 'Gileno']\n",
    "\n",
    "nome = input(\"Digite seu nome: \")\n",
    "\n",
    "if nome in nomes:\n",
    "    print(\"Seu nome está na lista de nomes.\")\n",
    "else:\n",
    "    print(\"Seu nome não está na lista de nomes. Porém será adicionado'\")\n",
    "    nomes.append(nome)"
   ]
  },
  {
   "attachments": {},
   "cell_type": "markdown",
   "metadata": {},
   "source": [
    "## Operadores de comparação aritmética"
   ]
  },
  {
   "cell_type": "code",
   "execution_count": 17,
   "metadata": {},
   "outputs": [
    {
     "name": "stdout",
     "output_type": "stream",
     "text": [
      "a == b: False\n",
      "a != b: True\n",
      "a < b: False\n",
      "a > b: True\n",
      "a <= b: False\n",
      "a >= b: True\n",
      "a == c and b == c False\n",
      "a == c or b == c True\n"
     ]
    }
   ],
   "source": [
    "a = 10\n",
    "b = 5\n",
    "c = 10\n",
    "\n",
    "print(\"a == b:\", a == b)\n",
    "print(\"a != b:\", a != b)\n",
    "print(\"a < b:\", a < b)\n",
    "print(\"a > b:\", a > b)\n",
    "print(\"a <= b:\", a <= b)\n",
    "print(\"a >= b:\", a >= b)\n",
    "print(\"a == c and b == c\", a == c and b == c)\n",
    "print(\"a == c or b == c\", a == c or b == c)"
   ]
  },
  {
   "attachments": {},
   "cell_type": "markdown",
   "metadata": {},
   "source": [
    "## Operadores Booleanos"
   ]
  },
  {
   "cell_type": "code",
   "execution_count": 16,
   "metadata": {},
   "outputs": [
    {
     "name": "stdout",
     "output_type": "stream",
     "text": [
      "AND - verdadeiro and falso: False\n",
      "OR - verdadeiro or falso: True\n",
      "NOT - not verdadeiro: False\n"
     ]
    }
   ],
   "source": [
    "verdadeiro = True\n",
    "falso = False\n",
    "\n",
    "print(\"AND - verdadeiro and falso:\", verdadeiro and falso)\n",
    "print(\"OR - verdadeiro or falso:\", verdadeiro or falso)\n",
    "print(\"NOT - not verdadeiro:\", not verdadeiro)"
   ]
  },
  {
   "attachments": {},
   "cell_type": "markdown",
   "metadata": {},
   "source": [
    "## Controle de Fluxo (IF, FOR, WHILE)"
   ]
  },
  {
   "cell_type": "code",
   "execution_count": 41,
   "metadata": {},
   "outputs": [
    {
     "name": "stdout",
     "output_type": "stream",
     "text": [
      "Ele é o Elysson!\n",
      "Ela é a Giulia!\n",
      "Ele é o Willian!\n",
      "Ele é o Gileno!\n",
      "['Elysson', 'Giulia', 'Willian', 'Gileno']\n",
      "<class 'str'>\n",
      "Digite um nome válido\n",
      "To fora do IF e FOR\n"
     ]
    }
   ],
   "source": [
    "# IF     elemento   elemento  elemento   elemento\n",
    "nomes = ['Elysson', 'Giulia', 'Willian', 'Gileno', 'Ricardo', 'Victor']\n",
    "\n",
    "names = []\n",
    "\n",
    "#  elemento variavel\n",
    "for nome in nomes:\n",
    "    if nome == 'Giulia':\n",
    "        print(\"Ela é a Giulia!\")\n",
    "    elif nome == 'Elysson':\n",
    "        print(\"Ele é o Elysson!\")\n",
    "    elif nome == 'Willian':\n",
    "        print(\"Ele é o Willian!\")\n",
    "        names.append('Ricardo')\n",
    "    elif nome == 'Gileno':\n",
    "        print(\"Ele é o Gileno!\")\n",
    "    elif nome == 'Ricardo':\n",
    "        print(nomes)\n",
    "        print(type(name))\n",
    "        name = str(input('Digite seu nome: '))\n",
    "        if name.isalpha() == True:\n",
    "            names.append(name)\n",
    "        else:\n",
    "            print('Digite apenas caracteres alfabéticos')\n",
    "    elif nome == 'Ricardo':\n",
    "        print(\"Ele é o Ricardo!\")\n",
    "    elif nome == 'Victor':\n",
    "        print(\"Não sei quem é!\")\n",
    "print('To fora do IF e FOR')"
   ]
  },
  {
   "cell_type": "code",
   "execution_count": 42,
   "metadata": {},
   "outputs": [
    {
     "name": "stdout",
     "output_type": "stream",
     "text": [
      "['Ricardo', 'Victor', 'Marcelo']\n"
     ]
    }
   ],
   "source": [
    "lista_alunos = input(\"Digite os nomes dos alunos separados por vírgula: \")\n",
    "print(lista_alunos)"
   ]
  },
  {
   "cell_type": "code",
   "execution_count": 46,
   "metadata": {},
   "outputs": [
    {
     "name": "stdout",
     "output_type": "stream",
     "text": [
      "0\n",
      "1\n",
      "['Ricardo']\n",
      "1\n",
      "2\n",
      "['Ricardo', 'Victor']\n",
      "2\n",
      "3\n",
      "['Ricardo', 'Victor', 'Alisson']\n"
     ]
    }
   ],
   "source": [
    "lista_aluno = []\n",
    "while len(lista_aluno) < 3:\n",
    "    print(len(lista_aluno))\n",
    "    aluno = input(\"Digite os nomes do aluno: \")\n",
    "    lista_aluno.append(aluno)\n",
    "    print(len(lista_aluno))\n",
    "    print(lista_aluno)\n"
   ]
  },
  {
   "cell_type": "code",
   "execution_count": null,
   "metadata": {},
   "outputs": [],
   "source": [
    "\n",
    "# FOR\n",
    "for i in range(1, 6):\n",
    "    print(f\"Número: {i}\")\n",
    "\n",
    "# WHILE\n",
    "contador = 1\n",
    "while contador <= 5:\n",
    "    print(f\"Contador: {contador}\")\n",
    "    contador += 1"
   ]
  },
  {
   "attachments": {},
   "cell_type": "markdown",
   "metadata": {},
   "source": [
    "#### Exercicio 1 (Operadores Aritmeticos e Fluxo IF)\n",
    "\n",
    "Seja dado um conjunto de 3 números inteiros: a, b e c. Faça um programa em Python que compare esses números e determine o maior, o menor e o número intermediário.\n",
    "\n",
    "Dica: Para encontrar o maior e o menor, podemos usar a função max e min respectivamente."
   ]
  },
  {
   "cell_type": "code",
   "execution_count": null,
   "metadata": {},
   "outputs": [],
   "source": [
    "# Receber os números inteiros\n",
    "a = int(input(\"Digite o primeiro número inteiro: \"))\n",
    "b = int(input(\"Digite o segundo número inteiro: \"))\n",
    "c = int(input(\"Digite o terceiro número inteiro: \"))\n",
    "\n",
    "# Comparar os números e determinar o maior, o menor e o intermediário\n",
    "maior = max(a, b, c)\n",
    "menor = min(a, b, c)\n",
    "\n",
    "if a != maior and a != menor:\n",
    "    intermediario = a\n",
    "elif b != maior and b != menor:\n",
    "    intermediario = b\n",
    "else:\n",
    "    intermediario = c\n",
    "\n",
    "# Imprimir os resultados\n",
    "print(\"Maior número:\", maior)\n",
    "print(\"Menor número:\", menor)\n",
    "print(\"Número intermediário:\", intermediario)\n"
   ]
  },
  {
   "attachments": {},
   "cell_type": "markdown",
   "metadata": {},
   "source": [
    "#### Exercicio 2 (Operadores Booleanos)\n",
    "\n",
    "Dado um conjunto de 3 números inteiros: a, b e c, escreva um programa em Python que determine se a soma de dois desses números é igual ao terceiro número. O programa deve retornar True se a condição for satisfeita e False caso contrário em qualquer uma das condições."
   ]
  },
  {
   "cell_type": "code",
   "execution_count": 48,
   "metadata": {},
   "outputs": [
    {
     "name": "stdout",
     "output_type": "stream",
     "text": [
      "False\n"
     ]
    }
   ],
   "source": [
    "# Receber os números inteiros\n",
    "a = int(input(\"Digite o primeiro número inteiro: \"))\n",
    "b = int(input(\"Digite o segundo número inteiro: \"))\n",
    "c = int(input(\"Digite o terceiro número inteiro: \"))\n",
    "\n",
    "# Verificar se a soma de dois números é igual ao terceiro\n",
    "resultado = (a + b == c) or (a + c == b) or (b + c == a)\n",
    "\n",
    "# Imprimir o resultado\n",
    "print(resultado)"
   ]
  },
  {
   "attachments": {},
   "cell_type": "markdown",
   "metadata": {},
   "source": [
    "#### Exercício 3 (Fluxo For)\n",
    "\n",
    "Escreva um programa em Python que calcule a soma dos números ímpares de 1 até um número inteiro n (incluindo n), utilizando o fluxo for. O programa deve receber n como entrada e imprimir a soma dos números ímpares."
   ]
  },
  {
   "cell_type": "code",
   "execution_count": null,
   "metadata": {},
   "outputs": [],
   "source": [
    "# Receber o número inteiro n\n",
    "n = int(input(\"Digite um número inteiro n: \"))\n",
    "\n",
    "# Calcular a soma dos números ímpares de 1 até n (incluindo n)\n",
    "soma_impares = 0\n",
    "for numero in range(1, n+1):\n",
    "    #checa se o número é ímpar\n",
    "    if numero % 2 != 0:\n",
    "        #soma_impares = soma_impares + numero\n",
    "        soma_impares += numero\n",
    "\n",
    "# Imprimir a soma dos números ímpares\n",
    "print(\"A soma dos números ímpares de 1 até\", n, \"é:\", soma_impares)\n"
   ]
  },
  {
   "attachments": {},
   "cell_type": "markdown",
   "metadata": {},
   "source": [
    "#### Exercicio 4 (Fluxo While)\n",
    "\n",
    "Escreva um programa em Python que solicite ao usuário uma palavra ou frase. Utilizando um fluxo while, o programa deve contar e exibir o número de vogais presentes na palavra ou frase fornecida pelo usuário. Considere as vogais como \"a\", \"e\", \"i\", \"o\" e \"u\" (minúsculas e maiúsculas)."
   ]
  },
  {
   "cell_type": "code",
   "execution_count": null,
   "metadata": {},
   "outputs": [],
   "source": [
    "# Receber a palavra ou frase do usuário\n",
    "palavra = input(\"Digite uma palavra ou frase: \")\n",
    "\n",
    "# Inicializar as variáveis para armazenar o contador de vogais e a posição atual na palavra\n",
    "contador_vogais = 0\n",
    "posicao = 0\n",
    "\n",
    "# Percorrer a palavra ou frase utilizando um fluxo while\n",
    "while posicao < len(palavra):\n",
    "    # Verificar se o caractere atual é uma vogal\n",
    "    if palavra[posicao].lower() in \"aeiou\":\n",
    "        contador_vogais += 1\n",
    "\n",
    "    # Incrementar a posição\n",
    "    posicao += 1\n",
    "\n",
    "# Imprimir o número de vogais na palavra ou frase\n",
    "print(\"A palavra ou frase contém\", contador_vogais, \"vogais.\")"
   ]
  }
 ],
 "metadata": {
  "kernelspec": {
   "display_name": "Python 3",
   "language": "python",
   "name": "python3"
  },
  "language_info": {
   "codemirror_mode": {
    "name": "ipython",
    "version": 3
   },
   "file_extension": ".py",
   "mimetype": "text/x-python",
   "name": "python",
   "nbconvert_exporter": "python",
   "pygments_lexer": "ipython3",
   "version": "3.10.9"
  },
  "orig_nbformat": 4
 },
 "nbformat": 4,
 "nbformat_minor": 2
}
